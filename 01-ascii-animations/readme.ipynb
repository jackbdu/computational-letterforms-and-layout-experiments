{
 "cells": [
  {
   "cell_type": "markdown",
   "id": "e858a1e7-26e8-4853-9c36-6243c6817f18",
   "metadata": {},
   "source": [
    "# Experiment 01: ASCII Animations\n",
    "\n",
    "Pixelation is a recurring theme in my work. In this series of experiments, I wanted to use ASCII characters as pixels to create animated visuals.\n",
    "\n",
    "## Proof of Concept\n",
    "\n",
    "To test out this idea, I first drew a circle using ASCII characters."
   ]
  },
  {
   "cell_type": "code",
   "execution_count": 9,
   "id": "cfffc661-7105-4199-8c68-c1d82826a1ce",
   "metadata": {},
   "outputs": [
    {
     "name": "stdout",
     "output_type": "stream",
     "text": [
      ". . . . . . . . . . . . . . . .\n",
      ". . . . . . . . . . . . . . . .\n",
      ". . . . . . . . . . . . . . . .\n",
      ". . . . . . . X X X . . . . . .\n",
      ". . . . . X X X X X X X . . . .\n",
      ". . . . X X X X X X X X X . . .\n",
      ". . . . X X X X X X X X X . . .\n",
      ". . . X X X X X X X X X X X . .\n",
      ". . . X X X X X X X X X X X . .\n",
      ". . . X X X X X X X X X X X . .\n",
      ". . . . X X X X X X X X X . . .\n",
      ". . . . X X X X X X X X X . . .\n",
      ". . . . . X X X X X X X . . . .\n",
      ". . . . . . . X X X . . . . . .\n",
      ". . . . . . . . . . . . . . . .\n",
      ". . . . . . . . . . . . . . . .\n"
     ]
    }
   ],
   "source": [
    "#!/usr/bin/env python3\n",
    "import math\n",
    "\n",
    "def main():\n",
    "\n",
    "    foregroundPixel = \"X\"\n",
    "    backgroundPixel = \".\"\n",
    "\n",
    "    colsNum = 16\n",
    "    rowsNum = 16\n",
    "\n",
    "    centerX = colsNum / 2\n",
    "    centerY = rowsNum / 2\n",
    "    radius = rowsNum / 3\n",
    "\n",
    "    rows = []\n",
    "    for y in range(rowsNum):\n",
    "        row = []\n",
    "        for x in range(colsNum):\n",
    "            dist = math.sqrt(\n",
    "                (x - centerX) * (x - centerX) + (y - centerY) * (y - centerY)\n",
    "            )\n",
    "            pixel = foregroundPixel if dist < radius else backgroundPixel\n",
    "            row.append(pixel)\n",
    "        rows.append(\" \".join(row))\n",
    "\n",
    "    frame = \"\\n\".join(rows)\n",
    "    print(frame)\n",
    "\n",
    "main()"
   ]
  },
  {
   "cell_type": "markdown",
   "id": "27efadf5-fe72-4756-9e19-76464487600b",
   "metadata": {},
   "source": [
    "In order to create animation, I needed to repeatedly draw entire \"frame\" of characters at the same location. I achieved this with a combination of system calls and escape codes, which I found on Stack Overflow.\n",
    "\n",
    "**Unfortunely, the animation only works in terminal as I was not able to find a good solution that would work for Jupyter Notebook.**\n",
    "\n",
    "In addition, instead of using fixed characters, individual character for each pixel is randomly chosen from a list of predefined foreground characters and a list of background characters. This randomized operation would happen for every frame for a more dynamic visual."
   ]
  },
  {
   "cell_type": "code",
   "execution_count": 12,
   "id": "8e75c8db-49d2-487d-9495-9de84888219a",
   "metadata": {},
   "outputs": [],
   "source": [
    "%load 01-ascii-pulsing-circle.py"
   ]
  },
  {
   "cell_type": "markdown",
   "id": "b8fb6a0f-3db8-4d5e-9017-e45e58d33d77",
   "metadata": {},
   "source": [
    "## Truchet Tiles\n",
    "\n",
    "Truchet Tiles are a type of tiles that can be used for creating seamless patterns. I have been obsessed with this method of constructing patterns since I discovered it last year. This was the basis for the [pen plotter drawing experiments](https://jackbdu.com/blog/repeating-patterns-and-machine-drawing/) that I did before and I even created [video tutorials](https://www.youtube.com/watch?v=J1gkCqlKoiE) on how I implemented them in p5.js.\n",
    "\n",
    "With this obsession, I created a series of Truchet pattern with ASCII characters.\n",
    "\n",
    "In the first variation, I manually defined two 5x5 tiles by using 1s (foreground) and 0s (background) in lists to draw arcs on the diagonally opposing corners of the 5x5 tile. These tiles were then randomly chosen, laid out, and replaced by characters randomly from corresponding characters lists to fill the entire frame."
   ]
  },
  {
   "cell_type": "code",
   "execution_count": 13,
   "id": "ee2532ad-aa53-4ef0-83e8-4e9a2689573d",
   "metadata": {},
   "outputs": [],
   "source": [
    "%load 02-ascii-truchet-tiles-variation-a.py"
   ]
  },
  {
   "cell_type": "markdown",
   "id": "4882c5d9-9916-40cf-bcaa-33067a06b1da",
   "metadata": {},
   "source": [
    "In the second variation, instead of drawing arcs with lines, I filled them using 1s. In addition, I added a few space characters (\" \") to the background character list, which adds the chance for a background character to be a blank space (besides the two puncutation characters that I picked)."
   ]
  },
  {
   "cell_type": "code",
   "execution_count": 14,
   "id": "17372619-409e-4991-8a02-ea0efc0b7229",
   "metadata": {},
   "outputs": [],
   "source": [
    "%load 03-ascii-truchet-tiles-variation-b.py"
   ]
  },
  {
   "cell_type": "markdown",
   "id": "87c56d31-1301-4e5f-bdca-bf53d8aa90b6",
   "metadata": {},
   "source": [
    "In this last variation, I reverted back to hollow shapes, but I added a few other tile variations. I also further added the chances for backgrond to be blank spaces."
   ]
  },
  {
   "cell_type": "code",
   "execution_count": 15,
   "id": "aa4e5bd8-1e9e-451f-b24e-bd543f93af85",
   "metadata": {},
   "outputs": [],
   "source": [
    "%load 04-ascii-truchet-tiles-variation-c.py"
   ]
  }
 ],
 "metadata": {
  "kernelspec": {
   "display_name": "Python 3 (ipykernel)",
   "language": "python",
   "name": "python3"
  },
  "language_info": {
   "codemirror_mode": {
    "name": "ipython",
    "version": 3
   },
   "file_extension": ".py",
   "mimetype": "text/x-python",
   "name": "python",
   "nbconvert_exporter": "python",
   "pygments_lexer": "ipython3",
   "version": "3.13.1"
  }
 },
 "nbformat": 4,
 "nbformat_minor": 5
}
